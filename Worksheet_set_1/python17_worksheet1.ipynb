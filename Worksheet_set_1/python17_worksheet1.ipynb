{
 "cells": [
  {
   "cell_type": "markdown",
   "id": "b06c5d30",
   "metadata": {},
   "source": [
    "# Q11 to Q15 are programming questions. Answer them in Jupyter Notebook."
   ]
  },
  {
   "cell_type": "markdown",
   "id": "c663d342",
   "metadata": {},
   "source": [
    "Q11:- Write a python program to find the factorial of a number."
   ]
  },
  {
   "cell_type": "code",
   "execution_count": 2,
   "id": "a8004dc0",
   "metadata": {},
   "outputs": [
    {
     "name": "stdout",
     "output_type": "stream",
     "text": [
      "enter the number you want to find factorial 5\n",
      "the factorial of the number is: \n",
      "120\n"
     ]
    }
   ],
   "source": [
    "import math\n",
    "n = int(input(\"enter the number you want to find factorial \"))\n",
    "    \n",
    "print(\"the factorial of the number is: \")\n",
    "print(math.factorial(n))"
   ]
  },
  {
   "cell_type": "markdown",
   "id": "9f66ef83",
   "metadata": {},
   "source": [
    "12:-Write a python program to find whether a number is prime or composite.\n"
   ]
  },
  {
   "cell_type": "code",
   "execution_count": 14,
   "id": "4451e3fc",
   "metadata": {},
   "outputs": [
    {
     "name": "stdout",
     "output_type": "stream",
     "text": [
      "enter any number12\n",
      "12 is a composite number\n"
     ]
    }
   ],
   "source": [
    "number = int(input(\"enter any number\"))\n",
    "\n",
    "if number > 1:\n",
    "    for i in range (2,int(number/2)+1):\n",
    "        if (number % i == 0):\n",
    "            print(number, \"is a composite number\")\n",
    "            break\n",
    "            \n",
    "    else:\n",
    "        print(number, \"is a prime number\")\n",
    "        \n",
    "else:\n",
    "    print(number,\"is a composite number\")"
   ]
  },
  {
   "cell_type": "markdown",
   "id": "bcae090e",
   "metadata": {},
   "source": [
    "13:- Write a python program to check whether a given string is palindrome or not.\n"
   ]
  },
  {
   "cell_type": "code",
   "execution_count": 20,
   "id": "19674407",
   "metadata": {},
   "outputs": [
    {
     "name": "stdout",
     "output_type": "stream",
     "text": [
      "enter a string:ship\n",
      "the string is not a palindrome\n"
     ]
    }
   ],
   "source": [
    "string=input((\"enter a string:\"))\n",
    "if(string==string[::-1]):\n",
    "    print(\"the string is palindrome\")\n",
    "else:\n",
    "    print(\"the string is not a palindrome\")\n"
   ]
  },
  {
   "cell_type": "markdown",
   "id": "fe4a7aaa",
   "metadata": {},
   "source": [
    "14:- Write a Python program to get the third side of right-angled triangle from two given sides.\n"
   ]
  },
  {
   "cell_type": "code",
   "execution_count": 23,
   "id": "1423b29b",
   "metadata": {},
   "outputs": [
    {
     "name": "stdout",
     "output_type": "stream",
     "text": [
      "enter base: 8\n",
      "enter height: 9\n",
      "enter angle: 45\n",
      "hypotenuse = 12.041594578792296\n"
     ]
    }
   ],
   "source": [
    "import math\n",
    "\n",
    "a=float(input(\"enter base: \"))\n",
    "b=float(input(\"enter height: \"))\n",
    "c=float(input(\"enter angle: \"))\n",
    "\n",
    "D=math.sqrt(a**2+b**2)\n",
    "\n",
    "print(\"hypotenuse =\", D)"
   ]
  },
  {
   "cell_type": "markdown",
   "id": "fdf0b1f0",
   "metadata": {},
   "source": [
    "15:-Write a python program to print the frequency of each of the characters present in a given string."
   ]
  },
  {
   "cell_type": "code",
   "execution_count": 24,
   "id": "fd1265a2",
   "metadata": {},
   "outputs": [
    {
     "name": "stdout",
     "output_type": "stream",
     "text": [
      "enter string- india\n",
      "[2, 1, 1, 2, 1]\n"
     ]
    }
   ],
   "source": [
    "str=input(\"enter string- \")\n",
    "l=list(str)\n",
    "freq=[l.count(ele) for ele in l]\n",
    "print(freq)"
   ]
  },
  {
   "cell_type": "code",
   "execution_count": null,
   "id": "8e69f0f6",
   "metadata": {},
   "outputs": [],
   "source": []
  }
 ],
 "metadata": {
  "kernelspec": {
   "display_name": "Python 3 (ipykernel)",
   "language": "python",
   "name": "python3"
  },
  "language_info": {
   "codemirror_mode": {
    "name": "ipython",
    "version": 3
   },
   "file_extension": ".py",
   "mimetype": "text/x-python",
   "name": "python",
   "nbconvert_exporter": "python",
   "pygments_lexer": "ipython3",
   "version": "3.9.12"
  }
 },
 "nbformat": 4,
 "nbformat_minor": 5
}
