{
 "cells": [
  {
   "cell_type": "markdown",
   "id": "b06c5d30",
   "metadata": {},
   "source": [
    "# Q11 to Q15 are programming questions. Answer them in Jupyter Notebook."
   ]
  },
  {
   "cell_type": "markdown",
   "id": "c663d342",
   "metadata": {},
   "source": [
    "Q11:- Write a python program to find the factorial of a number."
   ]
  },
  {
   "cell_type": "code",
   "execution_count": null,
   "id": "9d062e9a",
   "metadata": {},
   "outputs": [],
   "source": [
    "def factorial(n):\n",
    "    if n == 0:\n",
    "        return 1\n",
    "    else:\n",
    "        return n * factorial(n-1)\n",
    "n=int(input(\"Input a number to calculate the factiorial : \"))\n",
    "print(factorial(n))\n"
   ]
  },
  {
   "cell_type": "markdown",
   "id": "9f66ef83",
   "metadata": {},
   "source": [
    "12:-Write a python program to find whether a number is prime or composite.\n"
   ]
  },
  {
   "cell_type": "code",
   "execution_count": null,
   "id": "4451e3fc",
   "metadata": {},
   "outputs": [],
   "source": [
    "number = int(input(\"enter any number\"))\n",
    "\n",
    "if number > 1:\n",
    "    for i in range (2,int(number/2)+1):\n",
    "        if (number % i == 0):\n",
    "            print(number, \"is a composite number\")\n",
    "            break\n",
    "            \n",
    "    else:\n",
    "        print(number, \"is a prime number\")\n",
    "        \n",
    "else:\n",
    "    print(number,\"is a composite number\")"
   ]
  },
  {
   "cell_type": "markdown",
   "id": "bcae090e",
   "metadata": {},
   "source": [
    "13:- Write a python program to check whether a given string is palindrome or not.\n"
   ]
  },
  {
   "cell_type": "code",
   "execution_count": null,
   "id": "4a6589cc",
   "metadata": {},
   "outputs": [],
   "source": [
    "input_str=input(\"What is your string?\\n\")\n",
    "str_len=len(input_str)\n",
    "t_f=True\n",
    "if str_len%2 == 0 :\n",
    "    x=int(str_len/2)\n",
    "    for i in range(x):\n",
    "        if input_str[i]!=input_str[-i-1]:\n",
    "            t_f=False        \n",
    "else:\n",
    "    x=int((str_len+1)/2)\n",
    "    for i in range(x):\n",
    "        if input_str[i]!=input_str[-i-1]:\n",
    "            t_f=False\n",
    "if t_f:\n",
    "    print(\"String is a palindrome.\")\n",
    "else:\n",
    "    print(\"String is not a palindrome.\")"
   ]
  },
  {
   "cell_type": "markdown",
   "id": "fe4a7aaa",
   "metadata": {},
   "source": [
    "14:- Write a Python program to get the third side of right-angled triangle from two given sides.\n"
   ]
  },
  {
   "cell_type": "code",
   "execution_count": null,
   "id": "38362509",
   "metadata": {},
   "outputs": [],
   "source": [
    "print(\"for unknown side write '0'\")\n",
    "h=float(input(\"what is hypotenuse?\"))\n",
    "b=float(input(\"what is base?\"))\n",
    "p=float(input(\"what is perpendicular?\"))\n",
    "\n",
    "if h==0:\n",
    "    h=(b*2+p2)*0.5\n",
    "elif b==0:\n",
    "    b=(h*2-p2)*0.5\n",
    "elif p==0:\n",
    "    b=(h*2-b2)*0.5\n",
    "\n",
    "print(f\"hypotenuse = {h} \\nbase = {b} \\nperpendicular = {p}\")"
   ]
  },
  {
   "cell_type": "markdown",
   "id": "fdf0b1f0",
   "metadata": {},
   "source": [
    "15:-Write a python program to print the frequency of each of the characters present in a given string."
   ]
  },
  {
   "cell_type": "code",
   "execution_count": null,
   "id": "bca33fda",
   "metadata": {},
   "outputs": [],
   "source": [
    "giv_str=input(\"What is your string?\")\n",
    "dictionary={}\n",
    "for i in giv_str:\n",
    "    if i == \" \":\n",
    "        pass\n",
    "    else:\n",
    "        if i in dictionary:\n",
    "            dictionary[i]+=1\n",
    "        else:\n",
    "            dictionary[i]=1\n",
    "print(dictionary)"
   ]
  },
  {
   "cell_type": "code",
   "execution_count": null,
   "id": "8e69f0f6",
   "metadata": {},
   "outputs": [],
   "source": []
  }
 ],
 "metadata": {
  "kernelspec": {
   "display_name": "Python 3 (ipykernel)",
   "language": "python",
   "name": "python3"
  },
  "language_info": {
   "codemirror_mode": {
    "name": "ipython",
    "version": 3
   },
   "file_extension": ".py",
   "mimetype": "text/x-python",
   "name": "python",
   "nbconvert_exporter": "python",
   "pygments_lexer": "ipython3",
   "version": "3.9.12"
  }
 },
 "nbformat": 4,
 "nbformat_minor": 5
}
